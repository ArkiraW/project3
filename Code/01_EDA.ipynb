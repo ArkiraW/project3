{
 "cells": [
  {
   "cell_type": "code",
   "execution_count": 1,
   "id": "7914d407-7f53-4d29-8f20-8bb05fc45291",
   "metadata": {},
   "outputs": [],
   "source": [
    "import pandas as pd    \n",
    "import matplotlib.pyplot as plt\n",
    "import seaborn as sns\n",
    "\n",
    "from nltk.tokenize import sent_tokenize, word_tokenize, RegexpTokenizer\n",
    "from nltk.stem import WordNetLemmatizer\n",
    "from nltk.stem.porter import PorterStemmer\n",
    "from nltk.corpus import stopwords\n",
    "from nltk.sentiment.vader import SentimentIntensityAnalyzer\n",
    "from nltk.stem import WordNetLemmatizer\n",
    "import re\n",
    "\n",
    "from sklearn.model_selection import train_test_split, GridSearchCV\n",
    "from sklearn.pipeline import Pipeline\n",
    "from sklearn.naive_bayes import MultinomialNB # Naive Bayes\n",
    "from sklearn.linear_model import LogisticRegression\n",
    "from sklearn.metrics import confusion_matrix, ConfusionMatrixDisplay\n",
    "from sklearn.feature_extraction.text import CountVectorizer, TfidfVectorizer"
   ]
  },
  {
   "cell_type": "markdown",
   "id": "cb62cfee-f305-4478-8c02-c04d2b2e7642",
   "metadata": {},
   "source": [
    "# 1. Data Exploration"
   ]
  },
  {
   "cell_type": "code",
   "execution_count": 3,
   "id": "77605b6a-5128-4cb2-a4ea-501d9e354b2f",
   "metadata": {},
   "outputs": [],
   "source": [
    "disney = pd.read_csv(\"../Data/subreddit_DisneyPlus_data.csv\")\n",
    "netflix = pd.read_csv(\"../Data/subreddit_netflix_data.csv\")"
   ]
  },
  {
   "cell_type": "code",
   "execution_count": 4,
   "id": "b2ca4cf7-49ee-4848-99a4-0bc86a2e3d67",
   "metadata": {},
   "outputs": [
    {
     "data": {
      "text/html": [
       "<div>\n",
       "<style scoped>\n",
       "    .dataframe tbody tr th:only-of-type {\n",
       "        vertical-align: middle;\n",
       "    }\n",
       "\n",
       "    .dataframe tbody tr th {\n",
       "        vertical-align: top;\n",
       "    }\n",
       "\n",
       "    .dataframe thead th {\n",
       "        text-align: right;\n",
       "    }\n",
       "</style>\n",
       "<table border=\"1\" class=\"dataframe\">\n",
       "  <thead>\n",
       "    <tr style=\"text-align: right;\">\n",
       "      <th></th>\n",
       "      <th>title</th>\n",
       "      <th>score</th>\n",
       "      <th>id</th>\n",
       "      <th>url</th>\n",
       "      <th>comms_num</th>\n",
       "      <th>created</th>\n",
       "      <th>body</th>\n",
       "    </tr>\n",
       "  </thead>\n",
       "  <tbody>\n",
       "    <tr>\n",
       "      <th>0</th>\n",
       "      <td>Monthly Tech Support &amp; Missing Content Thread</td>\n",
       "      <td>2</td>\n",
       "      <td>1ggy19d</td>\n",
       "      <td>https://www.reddit.com/r/DisneyPlus/comments/1...</td>\n",
       "      <td>39</td>\n",
       "      <td>2024-11-01 12:01:37</td>\n",
       "      <td>All posts regarding tech support or missing co...</td>\n",
       "    </tr>\n",
       "    <tr>\n",
       "      <th>1</th>\n",
       "      <td>The Simpsons: Treehouse of Horror XXXV - now s...</td>\n",
       "      <td>60</td>\n",
       "      <td>1gkbwwp</td>\n",
       "      <td>https://i.redd.it/xwpcgk4n94zd1.jpeg</td>\n",
       "      <td>12</td>\n",
       "      <td>2024-11-06 00:18:57</td>\n",
       "      <td>NaN</td>\n",
       "    </tr>\n",
       "    <tr>\n",
       "      <th>2</th>\n",
       "      <td>What do you think of Bolt?</td>\n",
       "      <td>7</td>\n",
       "      <td>1gpfceh</td>\n",
       "      <td>https://i.redd.it/m4dgy1b8af0e1.jpeg</td>\n",
       "      <td>1</td>\n",
       "      <td>2024-11-12 14:25:35</td>\n",
       "      <td>I think this movie deserves a lot of attention...</td>\n",
       "    </tr>\n",
       "    <tr>\n",
       "      <th>3</th>\n",
       "      <td>New official poster for 'What If...?' Season 3</td>\n",
       "      <td>84</td>\n",
       "      <td>1goxum0</td>\n",
       "      <td>https://i.redd.it/yc5mfxwk5b0e1.jpeg</td>\n",
       "      <td>21</td>\n",
       "      <td>2024-11-12 00:32:33</td>\n",
       "      <td>NaN</td>\n",
       "    </tr>\n",
       "    <tr>\n",
       "      <th>4</th>\n",
       "      <td>‘High Potential’ Premiere Draws Over 20 Millio...</td>\n",
       "      <td>11</td>\n",
       "      <td>1gpayc9</td>\n",
       "      <td>https://www.thewrap.com/high-potential-premier...</td>\n",
       "      <td>1</td>\n",
       "      <td>2024-11-12 09:58:42</td>\n",
       "      <td>NaN</td>\n",
       "    </tr>\n",
       "  </tbody>\n",
       "</table>\n",
       "</div>"
      ],
      "text/plain": [
       "                                               title  score       id  \\\n",
       "0      Monthly Tech Support & Missing Content Thread      2  1ggy19d   \n",
       "1  The Simpsons: Treehouse of Horror XXXV - now s...     60  1gkbwwp   \n",
       "2                         What do you think of Bolt?      7  1gpfceh   \n",
       "3     New official poster for 'What If...?' Season 3     84  1goxum0   \n",
       "4  ‘High Potential’ Premiere Draws Over 20 Millio...     11  1gpayc9   \n",
       "\n",
       "                                                 url  comms_num  \\\n",
       "0  https://www.reddit.com/r/DisneyPlus/comments/1...         39   \n",
       "1               https://i.redd.it/xwpcgk4n94zd1.jpeg         12   \n",
       "2               https://i.redd.it/m4dgy1b8af0e1.jpeg          1   \n",
       "3               https://i.redd.it/yc5mfxwk5b0e1.jpeg         21   \n",
       "4  https://www.thewrap.com/high-potential-premier...          1   \n",
       "\n",
       "               created                                               body  \n",
       "0  2024-11-01 12:01:37  All posts regarding tech support or missing co...  \n",
       "1  2024-11-06 00:18:57                                                NaN  \n",
       "2  2024-11-12 14:25:35  I think this movie deserves a lot of attention...  \n",
       "3  2024-11-12 00:32:33                                                NaN  \n",
       "4  2024-11-12 09:58:42                                                NaN  "
      ]
     },
     "execution_count": 4,
     "metadata": {},
     "output_type": "execute_result"
    }
   ],
   "source": [
    "disney.head()"
   ]
  },
  {
   "cell_type": "code",
   "execution_count": 5,
   "id": "98ab4db8-1179-4b7f-83b7-bb97059e5e4b",
   "metadata": {},
   "outputs": [
    {
     "data": {
      "text/html": [
       "<div>\n",
       "<style scoped>\n",
       "    .dataframe tbody tr th:only-of-type {\n",
       "        vertical-align: middle;\n",
       "    }\n",
       "\n",
       "    .dataframe tbody tr th {\n",
       "        vertical-align: top;\n",
       "    }\n",
       "\n",
       "    .dataframe thead th {\n",
       "        text-align: right;\n",
       "    }\n",
       "</style>\n",
       "<table border=\"1\" class=\"dataframe\">\n",
       "  <thead>\n",
       "    <tr style=\"text-align: right;\">\n",
       "      <th></th>\n",
       "      <th>title</th>\n",
       "      <th>score</th>\n",
       "      <th>id</th>\n",
       "      <th>url</th>\n",
       "      <th>comms_num</th>\n",
       "      <th>created</th>\n",
       "      <th>body</th>\n",
       "    </tr>\n",
       "  </thead>\n",
       "  <tbody>\n",
       "    <tr>\n",
       "      <th>0</th>\n",
       "      <td>/r/Netflix Discord Server</td>\n",
       "      <td>476</td>\n",
       "      <td>mxm3re</td>\n",
       "      <td>https://www.reddit.com/r/netflix/comments/mxm3...</td>\n",
       "      <td>249</td>\n",
       "      <td>2021-04-24 22:24:04</td>\n",
       "      <td>We are pleased to announce we have affiliated ...</td>\n",
       "    </tr>\n",
       "    <tr>\n",
       "      <th>1</th>\n",
       "      <td>Enough Mark Wahlberg!</td>\n",
       "      <td>235</td>\n",
       "      <td>1gpas31</td>\n",
       "      <td>https://www.reddit.com/r/netflix/comments/1gpa...</td>\n",
       "      <td>63</td>\n",
       "      <td>2024-11-12 09:49:41</td>\n",
       "      <td>He plays the same character in every movie! He...</td>\n",
       "    </tr>\n",
       "    <tr>\n",
       "      <th>2</th>\n",
       "      <td>Windows lagging?</td>\n",
       "      <td>66</td>\n",
       "      <td>1gp72oi</td>\n",
       "      <td>https://www.reddit.com/r/netflix/comments/1gp7...</td>\n",
       "      <td>84</td>\n",
       "      <td>2024-11-12 06:50:30</td>\n",
       "      <td>Just a quick question \\nIs anyone elses netfli...</td>\n",
       "    </tr>\n",
       "    <tr>\n",
       "      <th>3</th>\n",
       "      <td>No Netflix interface when watching on PC?</td>\n",
       "      <td>34</td>\n",
       "      <td>1gp75y3</td>\n",
       "      <td>https://www.reddit.com/r/netflix/comments/1gp7...</td>\n",
       "      <td>22</td>\n",
       "      <td>2024-11-12 06:54:45</td>\n",
       "      <td>As said in the title, what happened to the int...</td>\n",
       "    </tr>\n",
       "    <tr>\n",
       "      <th>4</th>\n",
       "      <td>Netflix broken?</td>\n",
       "      <td>22</td>\n",
       "      <td>1gp7n93</td>\n",
       "      <td>https://www.reddit.com/r/netflix/comments/1gp7...</td>\n",
       "      <td>12</td>\n",
       "      <td>2024-11-12 07:17:00</td>\n",
       "      <td>So, I'm assuming netflix is broken for everyon...</td>\n",
       "    </tr>\n",
       "  </tbody>\n",
       "</table>\n",
       "</div>"
      ],
      "text/plain": [
       "                                       title  score       id  \\\n",
       "0                  /r/Netflix Discord Server    476   mxm3re   \n",
       "1                      Enough Mark Wahlberg!    235  1gpas31   \n",
       "2                           Windows lagging?     66  1gp72oi   \n",
       "3  No Netflix interface when watching on PC?     34  1gp75y3   \n",
       "4                            Netflix broken?     22  1gp7n93   \n",
       "\n",
       "                                                 url  comms_num  \\\n",
       "0  https://www.reddit.com/r/netflix/comments/mxm3...        249   \n",
       "1  https://www.reddit.com/r/netflix/comments/1gpa...         63   \n",
       "2  https://www.reddit.com/r/netflix/comments/1gp7...         84   \n",
       "3  https://www.reddit.com/r/netflix/comments/1gp7...         22   \n",
       "4  https://www.reddit.com/r/netflix/comments/1gp7...         12   \n",
       "\n",
       "               created                                               body  \n",
       "0  2021-04-24 22:24:04  We are pleased to announce we have affiliated ...  \n",
       "1  2024-11-12 09:49:41  He plays the same character in every movie! He...  \n",
       "2  2024-11-12 06:50:30  Just a quick question \\nIs anyone elses netfli...  \n",
       "3  2024-11-12 06:54:45  As said in the title, what happened to the int...  \n",
       "4  2024-11-12 07:17:00  So, I'm assuming netflix is broken for everyon...  "
      ]
     },
     "execution_count": 5,
     "metadata": {},
     "output_type": "execute_result"
    }
   ],
   "source": [
    "netflix.head()"
   ]
  },
  {
   "cell_type": "code",
   "execution_count": 6,
   "id": "ead273c9-7be3-4b58-b719-5fe78a708e7d",
   "metadata": {},
   "outputs": [
    {
     "data": {
      "text/plain": [
       "title          0\n",
       "score          0\n",
       "id             0\n",
       "url            0\n",
       "comms_num      0\n",
       "created        0\n",
       "body         128\n",
       "dtype: int64"
      ]
     },
     "execution_count": 6,
     "metadata": {},
     "output_type": "execute_result"
    }
   ],
   "source": [
    "netflix.isnull().sum()"
   ]
  },
  {
   "cell_type": "code",
   "execution_count": 7,
   "id": "271a3664-fed5-4067-88a9-114c2308a724",
   "metadata": {},
   "outputs": [
    {
     "data": {
      "text/html": [
       "<div>\n",
       "<style scoped>\n",
       "    .dataframe tbody tr th:only-of-type {\n",
       "        vertical-align: middle;\n",
       "    }\n",
       "\n",
       "    .dataframe tbody tr th {\n",
       "        vertical-align: top;\n",
       "    }\n",
       "\n",
       "    .dataframe thead th {\n",
       "        text-align: right;\n",
       "    }\n",
       "</style>\n",
       "<table border=\"1\" class=\"dataframe\">\n",
       "  <thead>\n",
       "    <tr style=\"text-align: right;\">\n",
       "      <th></th>\n",
       "      <th>score</th>\n",
       "      <th>comms_num</th>\n",
       "    </tr>\n",
       "  </thead>\n",
       "  <tbody>\n",
       "    <tr>\n",
       "      <th>count</th>\n",
       "      <td>535.000000</td>\n",
       "      <td>535.000000</td>\n",
       "    </tr>\n",
       "    <tr>\n",
       "      <th>mean</th>\n",
       "      <td>33.841121</td>\n",
       "      <td>19.351402</td>\n",
       "    </tr>\n",
       "    <tr>\n",
       "      <th>std</th>\n",
       "      <td>123.536947</td>\n",
       "      <td>61.995740</td>\n",
       "    </tr>\n",
       "    <tr>\n",
       "      <th>min</th>\n",
       "      <td>0.000000</td>\n",
       "      <td>0.000000</td>\n",
       "    </tr>\n",
       "    <tr>\n",
       "      <th>25%</th>\n",
       "      <td>0.000000</td>\n",
       "      <td>1.000000</td>\n",
       "    </tr>\n",
       "    <tr>\n",
       "      <th>50%</th>\n",
       "      <td>3.000000</td>\n",
       "      <td>4.000000</td>\n",
       "    </tr>\n",
       "    <tr>\n",
       "      <th>75%</th>\n",
       "      <td>11.500000</td>\n",
       "      <td>11.500000</td>\n",
       "    </tr>\n",
       "    <tr>\n",
       "      <th>max</th>\n",
       "      <td>1656.000000</td>\n",
       "      <td>932.000000</td>\n",
       "    </tr>\n",
       "  </tbody>\n",
       "</table>\n",
       "</div>"
      ],
      "text/plain": [
       "             score   comms_num\n",
       "count   535.000000  535.000000\n",
       "mean     33.841121   19.351402\n",
       "std     123.536947   61.995740\n",
       "min       0.000000    0.000000\n",
       "25%       0.000000    1.000000\n",
       "50%       3.000000    4.000000\n",
       "75%      11.500000   11.500000\n",
       "max    1656.000000  932.000000"
      ]
     },
     "execution_count": 7,
     "metadata": {},
     "output_type": "execute_result"
    }
   ],
   "source": [
    "netflix.describe()"
   ]
  },
  {
   "cell_type": "code",
   "execution_count": 8,
   "id": "c6c8dc2c-7bf5-419a-825e-781935ed00b1",
   "metadata": {},
   "outputs": [
    {
     "data": {
      "text/plain": [
       "title          0\n",
       "score          0\n",
       "id             0\n",
       "url            0\n",
       "comms_num      0\n",
       "created        0\n",
       "body         262\n",
       "dtype: int64"
      ]
     },
     "execution_count": 8,
     "metadata": {},
     "output_type": "execute_result"
    }
   ],
   "source": [
    "disney.isnull().sum()"
   ]
  },
  {
   "cell_type": "code",
   "execution_count": 9,
   "id": "b5b7d3b9-8c1e-4190-940a-5796472bc7a9",
   "metadata": {},
   "outputs": [
    {
     "data": {
      "text/html": [
       "<div>\n",
       "<style scoped>\n",
       "    .dataframe tbody tr th:only-of-type {\n",
       "        vertical-align: middle;\n",
       "    }\n",
       "\n",
       "    .dataframe tbody tr th {\n",
       "        vertical-align: top;\n",
       "    }\n",
       "\n",
       "    .dataframe thead th {\n",
       "        text-align: right;\n",
       "    }\n",
       "</style>\n",
       "<table border=\"1\" class=\"dataframe\">\n",
       "  <thead>\n",
       "    <tr style=\"text-align: right;\">\n",
       "      <th></th>\n",
       "      <th>score</th>\n",
       "      <th>comms_num</th>\n",
       "    </tr>\n",
       "  </thead>\n",
       "  <tbody>\n",
       "    <tr>\n",
       "      <th>count</th>\n",
       "      <td>930.000000</td>\n",
       "      <td>930.000000</td>\n",
       "    </tr>\n",
       "    <tr>\n",
       "      <th>mean</th>\n",
       "      <td>42.958065</td>\n",
       "      <td>20.097849</td>\n",
       "    </tr>\n",
       "    <tr>\n",
       "      <th>std</th>\n",
       "      <td>131.545379</td>\n",
       "      <td>47.999687</td>\n",
       "    </tr>\n",
       "    <tr>\n",
       "      <th>min</th>\n",
       "      <td>0.000000</td>\n",
       "      <td>0.000000</td>\n",
       "    </tr>\n",
       "    <tr>\n",
       "      <th>25%</th>\n",
       "      <td>3.000000</td>\n",
       "      <td>2.000000</td>\n",
       "    </tr>\n",
       "    <tr>\n",
       "      <th>50%</th>\n",
       "      <td>8.000000</td>\n",
       "      <td>7.000000</td>\n",
       "    </tr>\n",
       "    <tr>\n",
       "      <th>75%</th>\n",
       "      <td>26.000000</td>\n",
       "      <td>18.000000</td>\n",
       "    </tr>\n",
       "    <tr>\n",
       "      <th>max</th>\n",
       "      <td>1751.000000</td>\n",
       "      <td>590.000000</td>\n",
       "    </tr>\n",
       "  </tbody>\n",
       "</table>\n",
       "</div>"
      ],
      "text/plain": [
       "             score   comms_num\n",
       "count   930.000000  930.000000\n",
       "mean     42.958065   20.097849\n",
       "std     131.545379   47.999687\n",
       "min       0.000000    0.000000\n",
       "25%       3.000000    2.000000\n",
       "50%       8.000000    7.000000\n",
       "75%      26.000000   18.000000\n",
       "max    1751.000000  590.000000"
      ]
     },
     "execution_count": 9,
     "metadata": {},
     "output_type": "execute_result"
    }
   ],
   "source": [
    "disney.describe()"
   ]
  },
  {
   "cell_type": "markdown",
   "id": "7758e937-e54e-4bfc-b9d7-e4983326089e",
   "metadata": {},
   "source": [
    "# 2. Data Cleaning"
   ]
  },
  {
   "cell_type": "code",
   "execution_count": 11,
   "id": "47c8fe3d-d229-4854-8e28-0cb92f793e82",
   "metadata": {},
   "outputs": [],
   "source": [
    "# Drop unused columns ['id','url','created']\n",
    "netflix = netflix.drop(columns=['id','url','created','body'])\n",
    "disney = disney.drop(columns=['id','url','created','body'])"
   ]
  },
  {
   "cell_type": "code",
   "execution_count": 12,
   "id": "a7c11d51-cb10-4d6e-9de0-90128580e3c4",
   "metadata": {},
   "outputs": [
    {
     "data": {
      "text/plain": [
       "((535, 3), (930, 3))"
      ]
     },
     "execution_count": 12,
     "metadata": {},
     "output_type": "execute_result"
    }
   ],
   "source": [
    "# Check the shape\n",
    "netflix.shape, disney.shape"
   ]
  },
  {
   "cell_type": "code",
   "execution_count": 13,
   "id": "784d5c8b-af6c-49cf-871c-1b8b6b46f187",
   "metadata": {},
   "outputs": [],
   "source": [
    "# Add platform column \n",
    "# Netflix = 1\n",
    "# Disney+ Hotstar = 0\n",
    "netflix.insert(1, \"platform\",\"netflix\")\n",
    "disney.insert(1,\"platform\",\"disney\")"
   ]
  },
  {
   "cell_type": "code",
   "execution_count": 14,
   "id": "89284c34-f7ce-491b-ad49-a44ccbb2a0da",
   "metadata": {},
   "outputs": [],
   "source": [
    "df = pd.concat([netflix,disney],axis=0)"
   ]
  },
  {
   "cell_type": "code",
   "execution_count": 15,
   "id": "e578eeed-2721-46ad-8b37-8862791562a7",
   "metadata": {},
   "outputs": [
    {
     "data": {
      "text/plain": [
       "title        0\n",
       "platform     0\n",
       "score        0\n",
       "comms_num    0\n",
       "dtype: int64"
      ]
     },
     "execution_count": 15,
     "metadata": {},
     "output_type": "execute_result"
    }
   ],
   "source": [
    "df.isnull().sum()"
   ]
  },
  {
   "cell_type": "markdown",
   "id": "1f9ebcf7-fe0c-4aa9-b6ee-d76d5f1edd38",
   "metadata": {},
   "source": [
    "# 3. EDA"
   ]
  },
  {
   "cell_type": "markdown",
   "id": "51bb8a4f-f5af-4abf-ab2d-1abbe4164d30",
   "metadata": {},
   "source": [
    "## 3.1 Score and The Number of Comments"
   ]
  },
  {
   "cell_type": "code",
   "execution_count": 18,
   "id": "a2a086dc-0283-44d7-920c-87389b04898f",
   "metadata": {},
   "outputs": [
    {
     "name": "stdout",
     "output_type": "stream",
     "text": [
      "The Correlation between Score and Number of Comments\n",
      " Overall: 0.6689\n",
      " Netflix: 0.6477\n",
      " Disney+: 0.698\n"
     ]
    }
   ],
   "source": [
    "print(\"The Correlation between Score and Number of Comments\")\n",
    "print(f\" Overall: {df['score'].corr(df['comms_num']).round(4)}\")\n",
    "print(f\" Netflix: {netflix['score'].corr(netflix['comms_num']).round(4)}\")\n",
    "print(f\" Disney+: {disney['score'].corr(disney['comms_num']).round(4)}\")"
   ]
  },
  {
   "cell_type": "code",
   "execution_count": 19,
   "id": "be574966-a7d7-4c14-90e3-e2ca0df0acd0",
   "metadata": {},
   "outputs": [
    {
     "data": {
      "text/plain": [
       "<Axes: xlabel='score', ylabel='comms_num'>"
      ]
     },
     "execution_count": 19,
     "metadata": {},
     "output_type": "execute_result"
    },
    {
     "data": {
      "image/png": "[encoded data removed]",
      "text/plain": [
       "<Figure size 640x480 with 1 Axes>"
      ]
     },
     "metadata": {},
     "output_type": "display_data"
    }
   ],
   "source": [
    "sns.scatterplot(df,x = 'score', y = 'comms_num',hue='platform')"
   ]
  },
  {
   "cell_type": "markdown",
   "id": "2cee53e3-aa05-4e46-a813-d65dd09ed678",
   "metadata": {},
   "source": [
    "### Score"
   ]
  },
  {
   "cell_type": "code",
   "execution_count": 21,
   "id": "1dc555d6-12fb-4ebb-8c26-0ce5ca40e70e",
   "metadata": {},
   "outputs": [
    {
     "data": {
      "image/png": "[encoded data removed]",
      "text/plain": [
       "<Figure size 1000x400 with 1 Axes>"
      ]
     },
     "metadata": {},
     "output_type": "display_data"
    }
   ],
   "source": [
    "# Speard of score by each platforms\n",
    "comms_num = plt.figure(figsize=(10,4))\n",
    "sns.boxplot( x = 'score',y = 'platform', data = df, hue = 'platform', palette = 'husl');\n",
    "plt.ylabel('Platform', fontsize=15, fontweight=\"bold\",labelpad=15)\n",
    "plt.yticks(fontsize= 12) \n",
    "plt.xlabel('Score', fontsize=15, fontweight=\"bold\")\n",
    "plt.xticks(fontsize= 12)\n",
    "plt.tight_layout()\n",
    "plt.savefig('Distribution of Score by each platforms.png',dpi = 2000);\n",
    "plt.show()"
   ]
  },
  {
   "cell_type": "code",
   "execution_count": 22,
   "id": "05ba1d52-20af-462c-b1cd-ee50c5bbb46d",
   "metadata": {},
   "outputs": [
    {
     "data": {
      "text/html": [
       "<div>\n",
       "<style scoped>\n",
       "    .dataframe tbody tr th:only-of-type {\n",
       "        vertical-align: middle;\n",
       "    }\n",
       "\n",
       "    .dataframe tbody tr th {\n",
       "        vertical-align: top;\n",
       "    }\n",
       "\n",
       "    .dataframe thead th {\n",
       "        text-align: right;\n",
       "    }\n",
       "</style>\n",
       "<table border=\"1\" class=\"dataframe\">\n",
       "  <thead>\n",
       "    <tr style=\"text-align: right;\">\n",
       "      <th></th>\n",
       "      <th>title</th>\n",
       "      <th>platform</th>\n",
       "      <th>score</th>\n",
       "      <th>comms_num</th>\n",
       "    </tr>\n",
       "  </thead>\n",
       "  <tbody>\n",
       "    <tr>\n",
       "      <th>410</th>\n",
       "      <td>I just rewatched Mindhunter. What a colossal b...</td>\n",
       "      <td>netflix</td>\n",
       "      <td>1656</td>\n",
       "      <td>153</td>\n",
       "    </tr>\n",
       "    <tr>\n",
       "      <th>394</th>\n",
       "      <td>Menendez brothers were molested and should wal...</td>\n",
       "      <td>netflix</td>\n",
       "      <td>875</td>\n",
       "      <td>465</td>\n",
       "    </tr>\n",
       "    <tr>\n",
       "      <th>511</th>\n",
       "      <td>The need for growth is ruining Netflix</td>\n",
       "      <td>netflix</td>\n",
       "      <td>821</td>\n",
       "      <td>171</td>\n",
       "    </tr>\n",
       "    <tr>\n",
       "      <th>402</th>\n",
       "      <td>The Queen's Gambit debuted 4 yrs ago today on ...</td>\n",
       "      <td>netflix</td>\n",
       "      <td>783</td>\n",
       "      <td>109</td>\n",
       "    </tr>\n",
       "  </tbody>\n",
       "</table>\n",
       "</div>"
      ],
      "text/plain": [
       "                                                 title platform  score  \\\n",
       "410  I just rewatched Mindhunter. What a colossal b...  netflix   1656   \n",
       "394  Menendez brothers were molested and should wal...  netflix    875   \n",
       "511             The need for growth is ruining Netflix  netflix    821   \n",
       "402  The Queen's Gambit debuted 4 yrs ago today on ...  netflix    783   \n",
       "\n",
       "     comms_num  \n",
       "410        153  \n",
       "394        465  \n",
       "511        171  \n",
       "402        109  "
      ]
     },
     "execution_count": 22,
     "metadata": {},
     "output_type": "execute_result"
    }
   ],
   "source": [
    "# Looking at The outliners > the title with more than 750 score\n",
    "df[df['platform']=='netflix'].sort_values(by='score',ascending=False).head(4)"
   ]
  },
  {
   "cell_type": "code",
   "execution_count": 23,
   "id": "4cd03aec-5283-46db-8ef0-8e8cc662bdab",
   "metadata": {},
   "outputs": [
    {
     "data": {
      "text/plain": [
       "<NumpyExtensionArray>\n",
       "['I just rewatched Mindhunter. What a colossal blunder to let Fincher walk.',\n",
       "     'Menendez brothers were molested and should walk free, says prosecutor',\n",
       "                                    'The need for growth is ruining Netflix',\n",
       "                    \"The Queen's Gambit debuted 4 yrs ago today on Netflix.\"]\n",
       "Length: 4, dtype: object"
      ]
     },
     "execution_count": 23,
     "metadata": {},
     "output_type": "execute_result"
    }
   ],
   "source": [
    "# Looking at The outliners > the title with more than 750 score\n",
    "df[df['platform']=='netflix'].sort_values(by='score',ascending=False)['title'].head(4).array"
   ]
  },
  {
   "cell_type": "code",
   "execution_count": 24,
   "id": "cda1290e-fc85-400e-b92a-38f04105244f",
   "metadata": {},
   "outputs": [
    {
     "data": {
      "text/html": [
       "<div>\n",
       "<style scoped>\n",
       "    .dataframe tbody tr th:only-of-type {\n",
       "        vertical-align: middle;\n",
       "    }\n",
       "\n",
       "    .dataframe tbody tr th {\n",
       "        vertical-align: top;\n",
       "    }\n",
       "\n",
       "    .dataframe thead th {\n",
       "        text-align: right;\n",
       "    }\n",
       "</style>\n",
       "<table border=\"1\" class=\"dataframe\">\n",
       "  <thead>\n",
       "    <tr style=\"text-align: right;\">\n",
       "      <th></th>\n",
       "      <th>title</th>\n",
       "      <th>platform</th>\n",
       "      <th>score</th>\n",
       "      <th>comms_num</th>\n",
       "    </tr>\n",
       "  </thead>\n",
       "  <tbody>\n",
       "    <tr>\n",
       "      <th>223</th>\n",
       "      <td>???</td>\n",
       "      <td>disney</td>\n",
       "      <td>1751</td>\n",
       "      <td>525</td>\n",
       "    </tr>\n",
       "    <tr>\n",
       "      <th>310</th>\n",
       "      <td>That’s just obscene</td>\n",
       "      <td>disney</td>\n",
       "      <td>1499</td>\n",
       "      <td>427</td>\n",
       "    </tr>\n",
       "    <tr>\n",
       "      <th>171</th>\n",
       "      <td>'Agatha All Along' Falls Out of Top 10 Streami...</td>\n",
       "      <td>disney</td>\n",
       "      <td>1254</td>\n",
       "      <td>170</td>\n",
       "    </tr>\n",
       "    <tr>\n",
       "      <th>490</th>\n",
       "      <td>Children’s PG profile</td>\n",
       "      <td>disney</td>\n",
       "      <td>1242</td>\n",
       "      <td>295</td>\n",
       "    </tr>\n",
       "    <tr>\n",
       "      <th>854</th>\n",
       "      <td>Not sure I can afford it anymore...</td>\n",
       "      <td>disney</td>\n",
       "      <td>1042</td>\n",
       "      <td>99</td>\n",
       "    </tr>\n",
       "    <tr>\n",
       "      <th>157</th>\n",
       "      <td>Phineas and Ferb Revival - First Poster</td>\n",
       "      <td>disney</td>\n",
       "      <td>884</td>\n",
       "      <td>111</td>\n",
       "    </tr>\n",
       "    <tr>\n",
       "      <th>231</th>\n",
       "      <td>Disney+ has just removed all the Indiana Jones...</td>\n",
       "      <td>disney</td>\n",
       "      <td>840</td>\n",
       "      <td>151</td>\n",
       "    </tr>\n",
       "  </tbody>\n",
       "</table>\n",
       "</div>"
      ],
      "text/plain": [
       "                                                 title platform  score  \\\n",
       "223                                                ???   disney   1751   \n",
       "310                               That’s just obscene    disney   1499   \n",
       "171  'Agatha All Along' Falls Out of Top 10 Streami...   disney   1254   \n",
       "490                             Children’s PG profile    disney   1242   \n",
       "854                Not sure I can afford it anymore...   disney   1042   \n",
       "157            Phineas and Ferb Revival - First Poster   disney    884   \n",
       "231  Disney+ has just removed all the Indiana Jones...   disney    840   \n",
       "\n",
       "     comms_num  \n",
       "223        525  \n",
       "310        427  \n",
       "171        170  \n",
       "490        295  \n",
       "854         99  \n",
       "157        111  \n",
       "231        151  "
      ]
     },
     "execution_count": 24,
     "metadata": {},
     "output_type": "execute_result"
    }
   ],
   "source": [
    "# Looking at The outliners > the title with more than 750 score\n",
    "df[df['platform']=='disney'].sort_values(by='score',ascending=False).head(7)"
   ]
  },
  {
   "cell_type": "code",
   "execution_count": 25,
   "id": "84e92b70-5779-4fa6-966c-5e4274a93328",
   "metadata": {},
   "outputs": [
    {
     "data": {
      "text/plain": [
       "<NumpyExtensionArray>\n",
       "[                                                                                                                          '???',\n",
       "                                                                                                          'That’s just obscene ',\n",
       "                               \"'Agatha All Along' Falls Out of Top 10 Streaming Shows Last Week Despite Significant Plot Twist\",\n",
       "                                                                                                        'Children’s PG profile ',\n",
       "                                                                                           'Not sure I can afford it anymore...',\n",
       "                                                                                       'Phineas and Ferb Revival - First Poster',\n",
       " 'Disney+ has just removed all the Indiana Jones movies directed by Steven Spielberg from the platform worldwide.\\n\\n\\n\\n\\n\\n\\n']\n",
       "Length: 7, dtype: object"
      ]
     },
     "execution_count": 25,
     "metadata": {},
     "output_type": "execute_result"
    }
   ],
   "source": [
    "# Looking at The outliners > the title with more than 750 score\n",
    "df[df['platform']=='disney'].sort_values(by='score',ascending=False)['title'].head(7).array"
   ]
  },
  {
   "cell_type": "markdown",
   "id": "bab78591-a00e-4985-a046-440eb6dffa74",
   "metadata": {},
   "source": [
    "### The Number of Comments"
   ]
  },
  {
   "cell_type": "code",
   "execution_count": 27,
   "id": "420f3869-a65b-4c7b-ab48-ce92f43efa55",
   "metadata": {},
   "outputs": [
    {
     "data": {
      "image/png": "[encoded data removed]",
      "text/plain": [
       "<Figure size 1000x400 with 1 Axes>"
      ]
     },
     "metadata": {},
     "output_type": "display_data"
    }
   ],
   "source": [
    "# Speard of the number of comments of each Platform\n",
    "comms_num = plt.figure(figsize=(10,4))\n",
    "sns.boxplot( x = 'comms_num',y = 'platform', data = df, hue = 'platform', palette = 'husl');\n",
    "plt.ylabel('Platform', fontsize=15, fontweight=\"bold\",labelpad=15)\n",
    "plt.yticks(fontsize= 12) \n",
    "plt.xlabel('the Number of Comments', fontsize=15, fontweight=\"bold\")\n",
    "plt.xticks(fontsize= 12)\n",
    "plt.tight_layout()\n",
    "plt.savefig('Distribution of Number of Comments by each platforms.png',dpi = 2000);\n",
    "plt.show()"
   ]
  },
  {
   "cell_type": "code",
   "execution_count": 28,
   "id": "430ffe07-06c9-4d99-bf2b-3b185b1d19fc",
   "metadata": {},
   "outputs": [
    {
     "data": {
      "text/html": [
       "<div>\n",
       "<style scoped>\n",
       "    .dataframe tbody tr th:only-of-type {\n",
       "        vertical-align: middle;\n",
       "    }\n",
       "\n",
       "    .dataframe tbody tr th {\n",
       "        vertical-align: top;\n",
       "    }\n",
       "\n",
       "    .dataframe thead th {\n",
       "        text-align: right;\n",
       "    }\n",
       "</style>\n",
       "<table border=\"1\" class=\"dataframe\">\n",
       "  <thead>\n",
       "    <tr style=\"text-align: right;\">\n",
       "      <th></th>\n",
       "      <th>title</th>\n",
       "      <th>platform</th>\n",
       "      <th>score</th>\n",
       "      <th>comms_num</th>\n",
       "    </tr>\n",
       "  </thead>\n",
       "  <tbody>\n",
       "    <tr>\n",
       "      <th>47</th>\n",
       "      <td>Outer banks new season has crippling audio issues</td>\n",
       "      <td>netflix</td>\n",
       "      <td>707</td>\n",
       "      <td>932</td>\n",
       "    </tr>\n",
       "    <tr>\n",
       "      <th>394</th>\n",
       "      <td>Menendez brothers were molested and should wal...</td>\n",
       "      <td>netflix</td>\n",
       "      <td>875</td>\n",
       "      <td>465</td>\n",
       "    </tr>\n",
       "    <tr>\n",
       "      <th>374</th>\n",
       "      <td>Sweet Bobby: My Catfish Nightmare</td>\n",
       "      <td>netflix</td>\n",
       "      <td>347</td>\n",
       "      <td>404</td>\n",
       "    </tr>\n",
       "    <tr>\n",
       "      <th>255</th>\n",
       "      <td>Just finished Alien Abduction in Manhattan. I’...</td>\n",
       "      <td>netflix</td>\n",
       "      <td>220</td>\n",
       "      <td>362</td>\n",
       "    </tr>\n",
       "    <tr>\n",
       "      <th>270</th>\n",
       "      <td>time cut didn't make any sense</td>\n",
       "      <td>netflix</td>\n",
       "      <td>252</td>\n",
       "      <td>345</td>\n",
       "    </tr>\n",
       "  </tbody>\n",
       "</table>\n",
       "</div>"
      ],
      "text/plain": [
       "                                                 title platform  score  \\\n",
       "47   Outer banks new season has crippling audio issues  netflix    707   \n",
       "394  Menendez brothers were molested and should wal...  netflix    875   \n",
       "374                  Sweet Bobby: My Catfish Nightmare  netflix    347   \n",
       "255  Just finished Alien Abduction in Manhattan. I’...  netflix    220   \n",
       "270                     time cut didn't make any sense  netflix    252   \n",
       "\n",
       "     comms_num  \n",
       "47         932  \n",
       "394        465  \n",
       "374        404  \n",
       "255        362  \n",
       "270        345  "
      ]
     },
     "execution_count": 28,
     "metadata": {},
     "output_type": "execute_result"
    }
   ],
   "source": [
    "# Looking at The outliners (Top5)\n",
    "df[df['platform']=='netflix'].sort_values(by='comms_num',ascending=False).head(5)"
   ]
  },
  {
   "cell_type": "code",
   "execution_count": 29,
   "id": "d4159831-4bd3-40a7-8433-2c07bb6838d3",
   "metadata": {},
   "outputs": [
    {
     "data": {
      "text/plain": [
       "<NumpyExtensionArray>\n",
       "[                    'Outer banks new season has crippling audio issues',\n",
       " 'Menendez brothers were molested and should walk free, says prosecutor',\n",
       "                                     'Sweet Bobby: My Catfish Nightmare',\n",
       "      'Just finished Alien Abduction in Manhattan. I’m on Carol’s side.',\n",
       "                                        \"time cut didn't make any sense\"]\n",
       "Length: 5, dtype: object"
      ]
     },
     "execution_count": 29,
     "metadata": {},
     "output_type": "execute_result"
    }
   ],
   "source": [
    "# Looking at The outliners (Top5)\n",
    "df[df['platform']=='netflix'].sort_values(by='comms_num',ascending=False)['title'].head(5).array"
   ]
  },
  {
   "cell_type": "code",
   "execution_count": 30,
   "id": "11dc5348-3b60-4756-867b-83ecd0509e84",
   "metadata": {},
   "outputs": [
    {
     "data": {
      "text/html": [
       "<div>\n",
       "<style scoped>\n",
       "    .dataframe tbody tr th:only-of-type {\n",
       "        vertical-align: middle;\n",
       "    }\n",
       "\n",
       "    .dataframe tbody tr th {\n",
       "        vertical-align: top;\n",
       "    }\n",
       "\n",
       "    .dataframe thead th {\n",
       "        text-align: right;\n",
       "    }\n",
       "</style>\n",
       "<table border=\"1\" class=\"dataframe\">\n",
       "  <thead>\n",
       "    <tr style=\"text-align: right;\">\n",
       "      <th></th>\n",
       "      <th>title</th>\n",
       "      <th>platform</th>\n",
       "      <th>score</th>\n",
       "      <th>comms_num</th>\n",
       "    </tr>\n",
       "  </thead>\n",
       "  <tbody>\n",
       "    <tr>\n",
       "      <th>386</th>\n",
       "      <td>Describe your favorite Disney movie only using...</td>\n",
       "      <td>disney</td>\n",
       "      <td>230</td>\n",
       "      <td>590</td>\n",
       "    </tr>\n",
       "    <tr>\n",
       "      <th>223</th>\n",
       "      <td>???</td>\n",
       "      <td>disney</td>\n",
       "      <td>1751</td>\n",
       "      <td>525</td>\n",
       "    </tr>\n",
       "    <tr>\n",
       "      <th>884</th>\n",
       "      <td>What's a movie everyone keeps insisting is gre...</td>\n",
       "      <td>disney</td>\n",
       "      <td>141</td>\n",
       "      <td>471</td>\n",
       "    </tr>\n",
       "    <tr>\n",
       "      <th>310</th>\n",
       "      <td>That’s just obscene</td>\n",
       "      <td>disney</td>\n",
       "      <td>1499</td>\n",
       "      <td>427</td>\n",
       "    </tr>\n",
       "    <tr>\n",
       "      <th>533</th>\n",
       "      <td>Disney+ terms prevent allergy death lawsuit, D...</td>\n",
       "      <td>disney</td>\n",
       "      <td>692</td>\n",
       "      <td>390</td>\n",
       "    </tr>\n",
       "  </tbody>\n",
       "</table>\n",
       "</div>"
      ],
      "text/plain": [
       "                                                 title platform  score  \\\n",
       "386  Describe your favorite Disney movie only using...   disney    230   \n",
       "223                                                ???   disney   1751   \n",
       "884  What's a movie everyone keeps insisting is gre...   disney    141   \n",
       "310                               That’s just obscene    disney   1499   \n",
       "533  Disney+ terms prevent allergy death lawsuit, D...   disney    692   \n",
       "\n",
       "     comms_num  \n",
       "386        590  \n",
       "223        525  \n",
       "884        471  \n",
       "310        427  \n",
       "533        390  "
      ]
     },
     "execution_count": 30,
     "metadata": {},
     "output_type": "execute_result"
    }
   ],
   "source": [
    "# Looking at The outliners (Top5)\n",
    "df[df['platform']=='disney'].sort_values(by='comms_num',ascending=False).head(5)"
   ]
  },
  {
   "cell_type": "code",
   "execution_count": 31,
   "id": "f5a14f62-9f15-4a65-abf2-888a029113ea",
   "metadata": {},
   "outputs": [
    {
     "data": {
      "text/plain": [
       "<NumpyExtensionArray>\n",
       "[                       'Describe your favorite Disney movie only using emojis👸🦎☀️!',\n",
       "                                                                               '???',\n",
       " \"What's a movie everyone keeps insisting is great but you just don't get the hype?\",\n",
       "                                                              'That’s just obscene ',\n",
       "                          'Disney+ terms prevent allergy death lawsuit, Disney says']\n",
       "Length: 5, dtype: object"
      ]
     },
     "execution_count": 31,
     "metadata": {},
     "output_type": "execute_result"
    }
   ],
   "source": [
    "# Looking at The outliners (Top5)\n",
    "df[df['platform']=='disney'].sort_values(by='comms_num',ascending=False)['title'].head(5).array"
   ]
  }
 ],
 "metadata": {
  "kernelspec": {
   "display_name": "Python 3 (ipykernel)",
   "language": "python",
   "name": "python3"
  },
  "language_info": {
   "codemirror_mode": {
    "name": "ipython",
    "version": 3
   },
   "file_extension": ".py",
   "mimetype": "text/x-python",
   "name": "python",
   "nbconvert_exporter": "python",
   "pygments_lexer": "ipython3",
   "version": "3.12.4"
  }
 },
 "nbformat": 4,
 "nbformat_minor": 5
}
